{
  "nbformat": 4,
  "nbformat_minor": 0,
  "metadata": {
    "colab": {
      "provenance": [],
      "gpuType": "T4"
    },
    "kernelspec": {
      "name": "python3",
      "display_name": "Python 3"
    },
    "language_info": {
      "name": "python"
    },
    "accelerator": "GPU",
    "widgets": {
      "application/vnd.jupyter.widget-state+json": {
        "40e24ba3e3ec4e348ee47e4a57818197": {
          "model_module": "@jupyter-widgets/controls",
          "model_name": "HBoxModel",
          "model_module_version": "1.5.0",
          "state": {
            "_dom_classes": [],
            "_model_module": "@jupyter-widgets/controls",
            "_model_module_version": "1.5.0",
            "_model_name": "HBoxModel",
            "_view_count": null,
            "_view_module": "@jupyter-widgets/controls",
            "_view_module_version": "1.5.0",
            "_view_name": "HBoxView",
            "box_style": "",
            "children": [
              "IPY_MODEL_97e07929ecd14bdebbcee24e5820d448",
              "IPY_MODEL_48963dbe81a141a5b39025b21e965b3d",
              "IPY_MODEL_d604d699d1e44fb181a65fbfdb59f24b"
            ],
            "layout": "IPY_MODEL_4128463f1c4e4c96a446c9ea96533947"
          }
        },
        "97e07929ecd14bdebbcee24e5820d448": {
          "model_module": "@jupyter-widgets/controls",
          "model_name": "HTMLModel",
          "model_module_version": "1.5.0",
          "state": {
            "_dom_classes": [],
            "_model_module": "@jupyter-widgets/controls",
            "_model_module_version": "1.5.0",
            "_model_name": "HTMLModel",
            "_view_count": null,
            "_view_module": "@jupyter-widgets/controls",
            "_view_module_version": "1.5.0",
            "_view_name": "HTMLView",
            "description": "",
            "description_tooltip": null,
            "layout": "IPY_MODEL_6f3ded0a1b274d94b223224dec1e8c30",
            "placeholder": "​",
            "style": "IPY_MODEL_97f4dbae7bb0491c9ba47239b352bd84",
            "value": "Map: 100%"
          }
        },
        "48963dbe81a141a5b39025b21e965b3d": {
          "model_module": "@jupyter-widgets/controls",
          "model_name": "FloatProgressModel",
          "model_module_version": "1.5.0",
          "state": {
            "_dom_classes": [],
            "_model_module": "@jupyter-widgets/controls",
            "_model_module_version": "1.5.0",
            "_model_name": "FloatProgressModel",
            "_view_count": null,
            "_view_module": "@jupyter-widgets/controls",
            "_view_module_version": "1.5.0",
            "_view_name": "ProgressView",
            "bar_style": "success",
            "description": "",
            "description_tooltip": null,
            "layout": "IPY_MODEL_fa5d1e136f3241e09cbd762a0e0a271d",
            "max": 5000,
            "min": 0,
            "orientation": "horizontal",
            "style": "IPY_MODEL_44a27262020f4303a67d2d31b1977ec9",
            "value": 5000
          }
        },
        "d604d699d1e44fb181a65fbfdb59f24b": {
          "model_module": "@jupyter-widgets/controls",
          "model_name": "HTMLModel",
          "model_module_version": "1.5.0",
          "state": {
            "_dom_classes": [],
            "_model_module": "@jupyter-widgets/controls",
            "_model_module_version": "1.5.0",
            "_model_name": "HTMLModel",
            "_view_count": null,
            "_view_module": "@jupyter-widgets/controls",
            "_view_module_version": "1.5.0",
            "_view_name": "HTMLView",
            "description": "",
            "description_tooltip": null,
            "layout": "IPY_MODEL_042fb3b891904f2c8400fbfcf6939fc9",
            "placeholder": "​",
            "style": "IPY_MODEL_58b5925787904a98b277ee7f56b62351",
            "value": " 5000/5000 [00:17&lt;00:00, 486.66 examples/s]"
          }
        },
        "4128463f1c4e4c96a446c9ea96533947": {
          "model_module": "@jupyter-widgets/base",
          "model_name": "LayoutModel",
          "model_module_version": "1.2.0",
          "state": {
            "_model_module": "@jupyter-widgets/base",
            "_model_module_version": "1.2.0",
            "_model_name": "LayoutModel",
            "_view_count": null,
            "_view_module": "@jupyter-widgets/base",
            "_view_module_version": "1.2.0",
            "_view_name": "LayoutView",
            "align_content": null,
            "align_items": null,
            "align_self": null,
            "border": null,
            "bottom": null,
            "display": null,
            "flex": null,
            "flex_flow": null,
            "grid_area": null,
            "grid_auto_columns": null,
            "grid_auto_flow": null,
            "grid_auto_rows": null,
            "grid_column": null,
            "grid_gap": null,
            "grid_row": null,
            "grid_template_areas": null,
            "grid_template_columns": null,
            "grid_template_rows": null,
            "height": null,
            "justify_content": null,
            "justify_items": null,
            "left": null,
            "margin": null,
            "max_height": null,
            "max_width": null,
            "min_height": null,
            "min_width": null,
            "object_fit": null,
            "object_position": null,
            "order": null,
            "overflow": null,
            "overflow_x": null,
            "overflow_y": null,
            "padding": null,
            "right": null,
            "top": null,
            "visibility": null,
            "width": null
          }
        },
        "6f3ded0a1b274d94b223224dec1e8c30": {
          "model_module": "@jupyter-widgets/base",
          "model_name": "LayoutModel",
          "model_module_version": "1.2.0",
          "state": {
            "_model_module": "@jupyter-widgets/base",
            "_model_module_version": "1.2.0",
            "_model_name": "LayoutModel",
            "_view_count": null,
            "_view_module": "@jupyter-widgets/base",
            "_view_module_version": "1.2.0",
            "_view_name": "LayoutView",
            "align_content": null,
            "align_items": null,
            "align_self": null,
            "border": null,
            "bottom": null,
            "display": null,
            "flex": null,
            "flex_flow": null,
            "grid_area": null,
            "grid_auto_columns": null,
            "grid_auto_flow": null,
            "grid_auto_rows": null,
            "grid_column": null,
            "grid_gap": null,
            "grid_row": null,
            "grid_template_areas": null,
            "grid_template_columns": null,
            "grid_template_rows": null,
            "height": null,
            "justify_content": null,
            "justify_items": null,
            "left": null,
            "margin": null,
            "max_height": null,
            "max_width": null,
            "min_height": null,
            "min_width": null,
            "object_fit": null,
            "object_position": null,
            "order": null,
            "overflow": null,
            "overflow_x": null,
            "overflow_y": null,
            "padding": null,
            "right": null,
            "top": null,
            "visibility": null,
            "width": null
          }
        },
        "97f4dbae7bb0491c9ba47239b352bd84": {
          "model_module": "@jupyter-widgets/controls",
          "model_name": "DescriptionStyleModel",
          "model_module_version": "1.5.0",
          "state": {
            "_model_module": "@jupyter-widgets/controls",
            "_model_module_version": "1.5.0",
            "_model_name": "DescriptionStyleModel",
            "_view_count": null,
            "_view_module": "@jupyter-widgets/base",
            "_view_module_version": "1.2.0",
            "_view_name": "StyleView",
            "description_width": ""
          }
        },
        "fa5d1e136f3241e09cbd762a0e0a271d": {
          "model_module": "@jupyter-widgets/base",
          "model_name": "LayoutModel",
          "model_module_version": "1.2.0",
          "state": {
            "_model_module": "@jupyter-widgets/base",
            "_model_module_version": "1.2.0",
            "_model_name": "LayoutModel",
            "_view_count": null,
            "_view_module": "@jupyter-widgets/base",
            "_view_module_version": "1.2.0",
            "_view_name": "LayoutView",
            "align_content": null,
            "align_items": null,
            "align_self": null,
            "border": null,
            "bottom": null,
            "display": null,
            "flex": null,
            "flex_flow": null,
            "grid_area": null,
            "grid_auto_columns": null,
            "grid_auto_flow": null,
            "grid_auto_rows": null,
            "grid_column": null,
            "grid_gap": null,
            "grid_row": null,
            "grid_template_areas": null,
            "grid_template_columns": null,
            "grid_template_rows": null,
            "height": null,
            "justify_content": null,
            "justify_items": null,
            "left": null,
            "margin": null,
            "max_height": null,
            "max_width": null,
            "min_height": null,
            "min_width": null,
            "object_fit": null,
            "object_position": null,
            "order": null,
            "overflow": null,
            "overflow_x": null,
            "overflow_y": null,
            "padding": null,
            "right": null,
            "top": null,
            "visibility": null,
            "width": null
          }
        },
        "44a27262020f4303a67d2d31b1977ec9": {
          "model_module": "@jupyter-widgets/controls",
          "model_name": "ProgressStyleModel",
          "model_module_version": "1.5.0",
          "state": {
            "_model_module": "@jupyter-widgets/controls",
            "_model_module_version": "1.5.0",
            "_model_name": "ProgressStyleModel",
            "_view_count": null,
            "_view_module": "@jupyter-widgets/base",
            "_view_module_version": "1.2.0",
            "_view_name": "StyleView",
            "bar_color": null,
            "description_width": ""
          }
        },
        "042fb3b891904f2c8400fbfcf6939fc9": {
          "model_module": "@jupyter-widgets/base",
          "model_name": "LayoutModel",
          "model_module_version": "1.2.0",
          "state": {
            "_model_module": "@jupyter-widgets/base",
            "_model_module_version": "1.2.0",
            "_model_name": "LayoutModel",
            "_view_count": null,
            "_view_module": "@jupyter-widgets/base",
            "_view_module_version": "1.2.0",
            "_view_name": "LayoutView",
            "align_content": null,
            "align_items": null,
            "align_self": null,
            "border": null,
            "bottom": null,
            "display": null,
            "flex": null,
            "flex_flow": null,
            "grid_area": null,
            "grid_auto_columns": null,
            "grid_auto_flow": null,
            "grid_auto_rows": null,
            "grid_column": null,
            "grid_gap": null,
            "grid_row": null,
            "grid_template_areas": null,
            "grid_template_columns": null,
            "grid_template_rows": null,
            "height": null,
            "justify_content": null,
            "justify_items": null,
            "left": null,
            "margin": null,
            "max_height": null,
            "max_width": null,
            "min_height": null,
            "min_width": null,
            "object_fit": null,
            "object_position": null,
            "order": null,
            "overflow": null,
            "overflow_x": null,
            "overflow_y": null,
            "padding": null,
            "right": null,
            "top": null,
            "visibility": null,
            "width": null
          }
        },
        "58b5925787904a98b277ee7f56b62351": {
          "model_module": "@jupyter-widgets/controls",
          "model_name": "DescriptionStyleModel",
          "model_module_version": "1.5.0",
          "state": {
            "_model_module": "@jupyter-widgets/controls",
            "_model_module_version": "1.5.0",
            "_model_name": "DescriptionStyleModel",
            "_view_count": null,
            "_view_module": "@jupyter-widgets/base",
            "_view_module_version": "1.2.0",
            "_view_name": "StyleView",
            "description_width": ""
          }
        }
      }
    }
  },
  "cells": [
    {
      "cell_type": "markdown",
      "source": [
        "Домашнее задание №3 Fine-tune model from huggingface.co. Придумать интересную задача, найти претреейн модель, fine-tune/allign. Показать демо приложения (20 баллов), сложные варианты fine-tune типа RLHF +20 баллов.\n",
        "\n",
        "Выполнила: Винницкая Диана"
      ],
      "metadata": {
        "id": "G5RaVP5Kyff_"
      }
    },
    {
      "cell_type": "markdown",
      "source": [
        "Формулировка задачи: генерация описания фильма по названию и жанру на русском языке"
      ],
      "metadata": {
        "id": "kdZ3oyxPyuji"
      }
    },
    {
      "cell_type": "markdown",
      "source": [
        "Датасет с сайта kaggle:\n",
        "\n",
        "https://www.kaggle.com/datasets/maksimpotorochin/movie-plots-from-wikipedia-in-russian"
      ],
      "metadata": {
        "id": "_QX0dEDly3Ar"
      }
    },
    {
      "cell_type": "markdown",
      "source": [
        "Необходимые этапы:\n",
        "1. подготовка данных\n",
        "2. выбор модели\n",
        "4. токенизация\n",
        "5. fine-tuning"
      ],
      "metadata": {
        "id": "8L83EpgbzG4h"
      }
    },
    {
      "cell_type": "markdown",
      "source": [
        "Загрузка датасета:"
      ],
      "metadata": {
        "id": "NAixxknnzatg"
      }
    },
    {
      "cell_type": "code",
      "source": [
        "import kagglehub\n",
        "\n",
        "# Download latest version\n",
        "path = kagglehub.dataset_download(\"maksimpotorochin/movie-plots-from-wikipedia-in-russian\")\n",
        "\n",
        "print(\"Path to dataset files:\", path)"
      ],
      "metadata": {
        "colab": {
          "base_uri": "https://localhost:8080/"
        },
        "id": "jsfFmznwzZyG",
        "outputId": "133ff075-c91e-4b98-c015-bc16303c2e68"
      },
      "execution_count": 3,
      "outputs": [
        {
          "output_type": "stream",
          "name": "stdout",
          "text": [
            "Path to dataset files: /kaggle/input/movie-plots-from-wikipedia-in-russian\n"
          ]
        }
      ]
    },
    {
      "cell_type": "code",
      "source": [
        "import pandas as pd\n",
        "df=pd.read_csv('/kaggle/input/movie-plots-from-wikipedia-in-russian/films_data.csv', encoding='utf-8')\n",
        "df.head()"
      ],
      "metadata": {
        "colab": {
          "base_uri": "https://localhost:8080/",
          "height": 289
        },
        "id": "cveagYlfzo6S",
        "outputId": "52e9ea3e-361d-47c6-c6a2-c036ba0c33f0"
      },
      "execution_count": 4,
      "outputs": [
        {
          "output_type": "execute_result",
          "data": {
            "text/plain": [
              "                           title  type                  genre  imdb_rating  \\\n",
              "0                      ? (фильм)  film    драматический фильм          7.0   \n",
              "1     ...а пятый всадник – Страх  film  драма военный артхаус          7.2   \n",
              "2  …и передайте привет ласточкам  film          драма военный          6.8   \n",
              "3       «Чудотворец» из Бирюлёва  film           игровое кино          NaN   \n",
              "4           (Не)идеальные роботы  film     комедия фантастика          5.4   \n",
              "\n",
              "                                             summary  \\\n",
              "0  «?» (индон. Tanda Tanya) — индонезийский худож...   \n",
              "1  «…а пятый всадник — Страх» (чеш. …a páty jezde...   \n",
              "2  «…и передайте привет ласточкам» — (чеш. ...a p...   \n",
              "3  «Чудотворец из Бирюлёва» — советский короткоме...   \n",
              "4  «(Не)идеальные роботы» (англ. Robots) — художе...   \n",
              "\n",
              "                                                plot  \n",
              "0  Основная тема фильма — межрелигиозные отношени...  \n",
              "1  Прага во время немецкой оккупации Чехословакии...  \n",
              "2  Конец 1942 года, нацистская тюрьма в Бреслау. ...  \n",
              "3  Жена ответственного работника Зоя Фёдоровна на...  \n",
              "4  Действие фильма разворачивается в далёком буду...  "
            ],
            "text/html": [
              "\n",
              "  <div id=\"df-989eeb27-4eb5-4f5f-9ba2-5b6e233c8aee\" class=\"colab-df-container\">\n",
              "    <div>\n",
              "<style scoped>\n",
              "    .dataframe tbody tr th:only-of-type {\n",
              "        vertical-align: middle;\n",
              "    }\n",
              "\n",
              "    .dataframe tbody tr th {\n",
              "        vertical-align: top;\n",
              "    }\n",
              "\n",
              "    .dataframe thead th {\n",
              "        text-align: right;\n",
              "    }\n",
              "</style>\n",
              "<table border=\"1\" class=\"dataframe\">\n",
              "  <thead>\n",
              "    <tr style=\"text-align: right;\">\n",
              "      <th></th>\n",
              "      <th>title</th>\n",
              "      <th>type</th>\n",
              "      <th>genre</th>\n",
              "      <th>imdb_rating</th>\n",
              "      <th>summary</th>\n",
              "      <th>plot</th>\n",
              "    </tr>\n",
              "  </thead>\n",
              "  <tbody>\n",
              "    <tr>\n",
              "      <th>0</th>\n",
              "      <td>? (фильм)</td>\n",
              "      <td>film</td>\n",
              "      <td>драматический фильм</td>\n",
              "      <td>7.0</td>\n",
              "      <td>«?» (индон. Tanda Tanya) — индонезийский худож...</td>\n",
              "      <td>Основная тема фильма — межрелигиозные отношени...</td>\n",
              "    </tr>\n",
              "    <tr>\n",
              "      <th>1</th>\n",
              "      <td>...а пятый всадник – Страх</td>\n",
              "      <td>film</td>\n",
              "      <td>драма военный артхаус</td>\n",
              "      <td>7.2</td>\n",
              "      <td>«…а пятый всадник — Страх» (чеш. …a páty jezde...</td>\n",
              "      <td>Прага во время немецкой оккупации Чехословакии...</td>\n",
              "    </tr>\n",
              "    <tr>\n",
              "      <th>2</th>\n",
              "      <td>…и передайте привет ласточкам</td>\n",
              "      <td>film</td>\n",
              "      <td>драма военный</td>\n",
              "      <td>6.8</td>\n",
              "      <td>«…и передайте привет ласточкам» — (чеш. ...a p...</td>\n",
              "      <td>Конец 1942 года, нацистская тюрьма в Бреслау. ...</td>\n",
              "    </tr>\n",
              "    <tr>\n",
              "      <th>3</th>\n",
              "      <td>«Чудотворец» из Бирюлёва</td>\n",
              "      <td>film</td>\n",
              "      <td>игровое кино</td>\n",
              "      <td>NaN</td>\n",
              "      <td>«Чудотворец из Бирюлёва» — советский короткоме...</td>\n",
              "      <td>Жена ответственного работника Зоя Фёдоровна на...</td>\n",
              "    </tr>\n",
              "    <tr>\n",
              "      <th>4</th>\n",
              "      <td>(Не)идеальные роботы</td>\n",
              "      <td>film</td>\n",
              "      <td>комедия фантастика</td>\n",
              "      <td>5.4</td>\n",
              "      <td>«(Не)идеальные роботы» (англ. Robots) — художе...</td>\n",
              "      <td>Действие фильма разворачивается в далёком буду...</td>\n",
              "    </tr>\n",
              "  </tbody>\n",
              "</table>\n",
              "</div>\n",
              "    <div class=\"colab-df-buttons\">\n",
              "\n",
              "  <div class=\"colab-df-container\">\n",
              "    <button class=\"colab-df-convert\" onclick=\"convertToInteractive('df-989eeb27-4eb5-4f5f-9ba2-5b6e233c8aee')\"\n",
              "            title=\"Convert this dataframe to an interactive table.\"\n",
              "            style=\"display:none;\">\n",
              "\n",
              "  <svg xmlns=\"http://www.w3.org/2000/svg\" height=\"24px\" viewBox=\"0 -960 960 960\">\n",
              "    <path d=\"M120-120v-720h720v720H120Zm60-500h600v-160H180v160Zm220 220h160v-160H400v160Zm0 220h160v-160H400v160ZM180-400h160v-160H180v160Zm440 0h160v-160H620v160ZM180-180h160v-160H180v160Zm440 0h160v-160H620v160Z\"/>\n",
              "  </svg>\n",
              "    </button>\n",
              "\n",
              "  <style>\n",
              "    .colab-df-container {\n",
              "      display:flex;\n",
              "      gap: 12px;\n",
              "    }\n",
              "\n",
              "    .colab-df-convert {\n",
              "      background-color: #E8F0FE;\n",
              "      border: none;\n",
              "      border-radius: 50%;\n",
              "      cursor: pointer;\n",
              "      display: none;\n",
              "      fill: #1967D2;\n",
              "      height: 32px;\n",
              "      padding: 0 0 0 0;\n",
              "      width: 32px;\n",
              "    }\n",
              "\n",
              "    .colab-df-convert:hover {\n",
              "      background-color: #E2EBFA;\n",
              "      box-shadow: 0px 1px 2px rgba(60, 64, 67, 0.3), 0px 1px 3px 1px rgba(60, 64, 67, 0.15);\n",
              "      fill: #174EA6;\n",
              "    }\n",
              "\n",
              "    .colab-df-buttons div {\n",
              "      margin-bottom: 4px;\n",
              "    }\n",
              "\n",
              "    [theme=dark] .colab-df-convert {\n",
              "      background-color: #3B4455;\n",
              "      fill: #D2E3FC;\n",
              "    }\n",
              "\n",
              "    [theme=dark] .colab-df-convert:hover {\n",
              "      background-color: #434B5C;\n",
              "      box-shadow: 0px 1px 3px 1px rgba(0, 0, 0, 0.15);\n",
              "      filter: drop-shadow(0px 1px 2px rgba(0, 0, 0, 0.3));\n",
              "      fill: #FFFFFF;\n",
              "    }\n",
              "  </style>\n",
              "\n",
              "    <script>\n",
              "      const buttonEl =\n",
              "        document.querySelector('#df-989eeb27-4eb5-4f5f-9ba2-5b6e233c8aee button.colab-df-convert');\n",
              "      buttonEl.style.display =\n",
              "        google.colab.kernel.accessAllowed ? 'block' : 'none';\n",
              "\n",
              "      async function convertToInteractive(key) {\n",
              "        const element = document.querySelector('#df-989eeb27-4eb5-4f5f-9ba2-5b6e233c8aee');\n",
              "        const dataTable =\n",
              "          await google.colab.kernel.invokeFunction('convertToInteractive',\n",
              "                                                    [key], {});\n",
              "        if (!dataTable) return;\n",
              "\n",
              "        const docLinkHtml = 'Like what you see? Visit the ' +\n",
              "          '<a target=\"_blank\" href=https://colab.research.google.com/notebooks/data_table.ipynb>data table notebook</a>'\n",
              "          + ' to learn more about interactive tables.';\n",
              "        element.innerHTML = '';\n",
              "        dataTable['output_type'] = 'display_data';\n",
              "        await google.colab.output.renderOutput(dataTable, element);\n",
              "        const docLink = document.createElement('div');\n",
              "        docLink.innerHTML = docLinkHtml;\n",
              "        element.appendChild(docLink);\n",
              "      }\n",
              "    </script>\n",
              "  </div>\n",
              "\n",
              "\n",
              "    <div id=\"df-724d7eac-617f-4d6b-91fa-6617dca3e092\">\n",
              "      <button class=\"colab-df-quickchart\" onclick=\"quickchart('df-724d7eac-617f-4d6b-91fa-6617dca3e092')\"\n",
              "                title=\"Suggest charts\"\n",
              "                style=\"display:none;\">\n",
              "\n",
              "<svg xmlns=\"http://www.w3.org/2000/svg\" height=\"24px\"viewBox=\"0 0 24 24\"\n",
              "     width=\"24px\">\n",
              "    <g>\n",
              "        <path d=\"M19 3H5c-1.1 0-2 .9-2 2v14c0 1.1.9 2 2 2h14c1.1 0 2-.9 2-2V5c0-1.1-.9-2-2-2zM9 17H7v-7h2v7zm4 0h-2V7h2v10zm4 0h-2v-4h2v4z\"/>\n",
              "    </g>\n",
              "</svg>\n",
              "      </button>\n",
              "\n",
              "<style>\n",
              "  .colab-df-quickchart {\n",
              "      --bg-color: #E8F0FE;\n",
              "      --fill-color: #1967D2;\n",
              "      --hover-bg-color: #E2EBFA;\n",
              "      --hover-fill-color: #174EA6;\n",
              "      --disabled-fill-color: #AAA;\n",
              "      --disabled-bg-color: #DDD;\n",
              "  }\n",
              "\n",
              "  [theme=dark] .colab-df-quickchart {\n",
              "      --bg-color: #3B4455;\n",
              "      --fill-color: #D2E3FC;\n",
              "      --hover-bg-color: #434B5C;\n",
              "      --hover-fill-color: #FFFFFF;\n",
              "      --disabled-bg-color: #3B4455;\n",
              "      --disabled-fill-color: #666;\n",
              "  }\n",
              "\n",
              "  .colab-df-quickchart {\n",
              "    background-color: var(--bg-color);\n",
              "    border: none;\n",
              "    border-radius: 50%;\n",
              "    cursor: pointer;\n",
              "    display: none;\n",
              "    fill: var(--fill-color);\n",
              "    height: 32px;\n",
              "    padding: 0;\n",
              "    width: 32px;\n",
              "  }\n",
              "\n",
              "  .colab-df-quickchart:hover {\n",
              "    background-color: var(--hover-bg-color);\n",
              "    box-shadow: 0 1px 2px rgba(60, 64, 67, 0.3), 0 1px 3px 1px rgba(60, 64, 67, 0.15);\n",
              "    fill: var(--button-hover-fill-color);\n",
              "  }\n",
              "\n",
              "  .colab-df-quickchart-complete:disabled,\n",
              "  .colab-df-quickchart-complete:disabled:hover {\n",
              "    background-color: var(--disabled-bg-color);\n",
              "    fill: var(--disabled-fill-color);\n",
              "    box-shadow: none;\n",
              "  }\n",
              "\n",
              "  .colab-df-spinner {\n",
              "    border: 2px solid var(--fill-color);\n",
              "    border-color: transparent;\n",
              "    border-bottom-color: var(--fill-color);\n",
              "    animation:\n",
              "      spin 1s steps(1) infinite;\n",
              "  }\n",
              "\n",
              "  @keyframes spin {\n",
              "    0% {\n",
              "      border-color: transparent;\n",
              "      border-bottom-color: var(--fill-color);\n",
              "      border-left-color: var(--fill-color);\n",
              "    }\n",
              "    20% {\n",
              "      border-color: transparent;\n",
              "      border-left-color: var(--fill-color);\n",
              "      border-top-color: var(--fill-color);\n",
              "    }\n",
              "    30% {\n",
              "      border-color: transparent;\n",
              "      border-left-color: var(--fill-color);\n",
              "      border-top-color: var(--fill-color);\n",
              "      border-right-color: var(--fill-color);\n",
              "    }\n",
              "    40% {\n",
              "      border-color: transparent;\n",
              "      border-right-color: var(--fill-color);\n",
              "      border-top-color: var(--fill-color);\n",
              "    }\n",
              "    60% {\n",
              "      border-color: transparent;\n",
              "      border-right-color: var(--fill-color);\n",
              "    }\n",
              "    80% {\n",
              "      border-color: transparent;\n",
              "      border-right-color: var(--fill-color);\n",
              "      border-bottom-color: var(--fill-color);\n",
              "    }\n",
              "    90% {\n",
              "      border-color: transparent;\n",
              "      border-bottom-color: var(--fill-color);\n",
              "    }\n",
              "  }\n",
              "</style>\n",
              "\n",
              "      <script>\n",
              "        async function quickchart(key) {\n",
              "          const quickchartButtonEl =\n",
              "            document.querySelector('#' + key + ' button');\n",
              "          quickchartButtonEl.disabled = true;  // To prevent multiple clicks.\n",
              "          quickchartButtonEl.classList.add('colab-df-spinner');\n",
              "          try {\n",
              "            const charts = await google.colab.kernel.invokeFunction(\n",
              "                'suggestCharts', [key], {});\n",
              "          } catch (error) {\n",
              "            console.error('Error during call to suggestCharts:', error);\n",
              "          }\n",
              "          quickchartButtonEl.classList.remove('colab-df-spinner');\n",
              "          quickchartButtonEl.classList.add('colab-df-quickchart-complete');\n",
              "        }\n",
              "        (() => {\n",
              "          let quickchartButtonEl =\n",
              "            document.querySelector('#df-724d7eac-617f-4d6b-91fa-6617dca3e092 button');\n",
              "          quickchartButtonEl.style.display =\n",
              "            google.colab.kernel.accessAllowed ? 'block' : 'none';\n",
              "        })();\n",
              "      </script>\n",
              "    </div>\n",
              "    </div>\n",
              "  </div>\n"
            ],
            "application/vnd.google.colaboratory.intrinsic+json": {
              "type": "dataframe",
              "variable_name": "df",
              "summary": "{\n  \"name\": \"df\",\n  \"rows\": 45812,\n  \"fields\": [\n    {\n      \"column\": \"title\",\n      \"properties\": {\n        \"dtype\": \"string\",\n        \"num_unique_values\": 44105,\n        \"samples\": [\n          \"\\u041f\\u0438\\u0440\\u0430\\u0442\\u043a\\u0430\",\n          \"\\u0423\\u0435\\u0437\\u0434\\u043d\\u0430\\u044f \\u0434\\u0440\\u0430\\u043c\\u0430\",\n          \"\\u0420\\u0435\\u0439\\u0441 222 (\\u0444\\u0438\\u043b\\u044c\\u043c)\"\n        ],\n        \"semantic_type\": \"\",\n        \"description\": \"\"\n      }\n    },\n    {\n      \"column\": \"type\",\n      \"properties\": {\n        \"dtype\": \"category\",\n        \"num_unique_values\": 5,\n        \"samples\": [\n          \"tv series\",\n          \"animated series\",\n          \"tv film\"\n        ],\n        \"semantic_type\": \"\",\n        \"description\": \"\"\n      }\n    },\n    {\n      \"column\": \"genre\",\n      \"properties\": {\n        \"dtype\": \"category\",\n        \"num_unique_values\": 11025,\n        \"samples\": [\n          \"\\u0434\\u0435\\u0442\\u0435\\u043a\\u0442\\u0438\\u0432 \\u0431\\u043e\\u0435\\u0432\\u0438\\u043a \\u043f\\u0440\\u0438\\u043a\\u043b\\u044e\\u0447\\u0435\\u043d\\u0438\\u044f\",\n          \"\\u0431\\u043e\\u0435\\u0432\\u0438\\u043a \\u043f\\u0440\\u0438\\u043a\\u043b\\u044e\\u0447\\u0435\\u043d\\u0447\\u0435\\u0441\\u043a\\u0438\\u0439 \\u0444\\u0438\\u043b\\u044c\\u043c \\u0444\\u044d\\u043d\\u0442\\u0435\\u0437\\u0438\",\n          \"\\u0431\\u043e\\u0435\\u0432\\u044b\\u0435 \\u0438\\u0441\\u043a\\u0443\\u0441\\u0441\\u0442\\u0432\\u0430  \\u0434\\u0440\\u0430\\u043c\\u0430\"\n        ],\n        \"semantic_type\": \"\",\n        \"description\": \"\"\n      }\n    },\n    {\n      \"column\": \"imdb_rating\",\n      \"properties\": {\n        \"dtype\": \"number\",\n        \"std\": 1.1718867390574348,\n        \"min\": 0.0,\n        \"max\": 9.6,\n        \"num_unique_values\": 88,\n        \"samples\": [\n          2.1,\n          7.0,\n          4.7\n        ],\n        \"semantic_type\": \"\",\n        \"description\": \"\"\n      }\n    },\n    {\n      \"column\": \"summary\",\n      \"properties\": {\n        \"dtype\": \"string\",\n        \"num_unique_values\": 44105,\n        \"samples\": [\n          \"\\u00ab\\u041f\\u0438\\u0440\\u0430\\u0442\\u043a\\u0430\\u00bb (\\u0444\\u0440. La pirate) \\u2014 \\u0444\\u0440\\u0430\\u043d\\u0446\\u0443\\u0437\\u0441\\u043a\\u0430\\u044f \\u0434\\u0440\\u0430\\u043c\\u0430 1984 \\u0433\\u043e\\u0434\\u0430 \\u0440\\u0435\\u0436\\u0438\\u0441\\u0441\\u0451\\u0440\\u0430 \\u0416\\u0430\\u043a\\u0430 \\u0414\\u0443\\u0430\\u0439\\u043e\\u043d\\u0430.\",\n          \"\\u00ab\\u0423\\u0435\\u0437\\u0434\\u043d\\u0430\\u044f \\u0434\\u0440\\u0430\\u043c\\u0430\\u00bb (\\u0442\\u0430\\u043a\\u0436\\u0435 \\u00ab\\u041f\\u0440\\u0435\\u0434\\u043c\\u0435\\u0442 \\u043e\\u0431\\u043e\\u0436\\u0430\\u043d\\u0438\\u044f\\u00bb; \\u0440\\u0430\\u0431\\u043e\\u0447\\u0435\\u0435 \\u043d\\u0430\\u0437\\u0432\\u0430\\u043d\\u0438\\u0435 \\u00ab\\u0426\\u0443\\u0433\\u0446\\u0432\\u0430\\u043d\\u0433\\u00bb) \\u2014 \\u0438\\u0441\\u0442\\u043e\\u0440\\u0438\\u0447\\u0435\\u0441\\u043a\\u0430\\u044f \\u0434\\u0440\\u0430\\u043c\\u0430 2014 \\u0433\\u043e\\u0434\\u0430 \\u0440\\u043e\\u0441\\u0441\\u0438\\u0439\\u0441\\u043a\\u043e\\u0433\\u043e \\u0440\\u0435\\u0436\\u0438\\u0441\\u0441\\u0451\\u0440\\u0430 \\u041e\\u043b\\u0435\\u0433\\u0430 \\u0411\\u0430\\u0437\\u0438\\u043b\\u043e\\u0432\\u0430, \\u0441\\u043d\\u044f\\u0442\\u0430\\u044f \\u043f\\u043e \\u043c\\u043e\\u0442\\u0438\\u0432\\u0430\\u043c \\u043d\\u0435\\u0441\\u043a\\u043e\\u043b\\u044c\\u043a\\u0438\\u0445 \\u043f\\u0440\\u043e\\u0438\\u0437\\u0432\\u0435\\u0434\\u0435\\u043d\\u0438\\u0439 \\u0410\\u043d\\u0442\\u043e\\u043d\\u0430 \\u041f\\u0430\\u0432\\u043b\\u043e\\u0432\\u0438\\u0447\\u0430 \\u0427\\u0435\\u0445\\u043e\\u0432\\u0430.\",\n          \"\\u00ab\\u0420\\u0435\\u0439\\u0441 222\\u00bb \\u2014 \\u0441\\u043e\\u0432\\u0435\\u0442\\u0441\\u043a\\u0438\\u0439 \\u0434\\u0432\\u0443\\u0445\\u0441\\u0435\\u0440\\u0438\\u0439\\u043d\\u044b\\u0439 \\u043f\\u043e\\u043b\\u0438\\u0442\\u0438\\u043a\\u043e-\\u043f\\u0441\\u0438\\u0445\\u043e\\u043b\\u043e\\u0433\\u0438\\u0447\\u0435\\u0441\\u043a\\u0438\\u0439 \\u0444\\u0438\\u043b\\u044c\\u043c-\\u0434\\u0440\\u0430\\u043c\\u0430, \\u0441\\u043d\\u044f\\u0442\\u044b\\u0439 \\u0432 1985 \\u0433\\u043e\\u0434\\u0443 \\u0440\\u0435\\u0436\\u0438\\u0441\\u0441\\u0451\\u0440\\u043e\\u043c \\u0421\\u0435\\u0440\\u0433\\u0435\\u0435\\u043c \\u041c\\u0438\\u043a\\u0430\\u044d\\u043b\\u044f\\u043d\\u043e\\u043c \\u043d\\u0430 \\u0441\\u0442\\u0443\\u0434\\u0438\\u0438 \\u00ab\\u041b\\u0435\\u043d\\u0444\\u0438\\u043b\\u044c\\u043c\\u00bb. \\u0421\\u044e\\u0436\\u0435\\u0442 \\u0444\\u0438\\u043b\\u044c\\u043c\\u0430 \\u043d\\u0430\\u0432\\u0435\\u044f\\u043d \\u0430\\u0442\\u043c\\u043e\\u0441\\u0444\\u0435\\u0440\\u043e\\u0439 \\u00ab\\u0445\\u043e\\u043b\\u043e\\u0434\\u043d\\u043e\\u0439 \\u0432\\u043e\\u0439\\u043d\\u044b\\u00bb \\u0438 \\u043d\\u0435\\u043f\\u0440\\u0438\\u043c\\u0438\\u0440\\u0438\\u043c\\u043e\\u0433\\u043e \\u043f\\u0440\\u043e\\u0442\\u0438\\u0432\\u043e\\u0441\\u0442\\u043e\\u044f\\u043d\\u0438\\u044f \\u0434\\u0432\\u0443\\u0445 \\u0441\\u0438\\u0441\\u0442\\u0435\\u043c. \\u041f\\u043e\\u0434\\u043d\\u0438\\u043c\\u0430\\u0435\\u0442\\u0441\\u044f \\u0442\\u0435\\u043c\\u0430 \\u043f\\u0435\\u0440\\u0435\\u0431\\u0435\\u0436\\u0447\\u0438\\u043a\\u043e\\u0432 \\u0438 \\u043d\\u0435\\u0432\\u043e\\u0437\\u0432\\u0440\\u0430\\u0449\\u0435\\u043d\\u0446\\u0435\\u0432 \\u0438 \\u0441\\u0432\\u044f\\u0437\\u0430\\u043d\\u043d\\u044b\\u0435 \\u0441 \\u044d\\u0442\\u0438\\u043c \\u0438\\u043d\\u0444\\u043e\\u0440\\u043c\\u0430\\u0446\\u0438\\u043e\\u043d\\u043d\\u0430\\u044f \\u0432\\u043e\\u0439\\u043d\\u0430 \\u0438 \\u043f\\u0440\\u043e\\u043f\\u0430\\u0433\\u0430\\u043d\\u0434\\u0438\\u0441\\u0442\\u0441\\u043a\\u043e\\u0435 \\u043f\\u0440\\u043e\\u0442\\u0438\\u0432\\u043e\\u0441\\u0442\\u043e\\u044f\\u043d\\u0438\\u0435. \\u041e\\u0441\\u043d\\u043e\\u0432\\u0430\\u043d \\u043d\\u0430 \\u0440\\u0435\\u0430\\u043b\\u044c\\u043d\\u043e\\u043c \\u0438\\u043d\\u0446\\u0438\\u0434\\u0435\\u043d\\u0442\\u0435, \\u043f\\u0440\\u043e\\u0438\\u0437\\u043e\\u0448\\u0435\\u0434\\u0448\\u0435\\u043c 24\\u201427 \\u0430\\u0432\\u0433\\u0443\\u0441\\u0442\\u0430 1979 \\u0433\\u043e\\u0434\\u0430 \\u0441 \\u0440\\u0435\\u0439\\u0441\\u043e\\u043c SU-316 \\u043f\\u0440\\u0435\\u0434\\u043f\\u0440\\u0438\\u044f\\u0442\\u0438\\u044f \\u00ab\\u0410\\u044d\\u0440\\u043e\\u0444\\u043b\\u043e\\u0442\\u00bb \\u0438 \\u0441\\u0432\\u044f\\u0437\\u0430\\u043d\\u043d\\u043e\\u043c \\u0441 \\u0441\\u0435\\u043c\\u0435\\u0439\\u043d\\u043e\\u0439 \\u043f\\u0430\\u0440\\u043e\\u0439 \\u0441\\u043e\\u0432\\u0435\\u0442\\u0441\\u043a\\u0438\\u0445 \\u0431\\u0430\\u043b\\u0435\\u0442\\u043c\\u0435\\u0439\\u0441\\u0442\\u0435\\u0440\\u043e\\u0432: \\u0410\\u043b\\u0435\\u043a\\u0441\\u0430\\u043d\\u0434\\u0440\\u0430 \\u0413\\u043e\\u0434\\u0443\\u043d\\u043e\\u0432\\u0430 \\u0438 \\u041b\\u044e\\u0434\\u043c\\u0438\\u043b\\u044b \\u0412\\u043b\\u0430\\u0441\\u043e\\u0432\\u043e\\u0439.\\n\\u0422\\u0440\\u0435\\u0442\\u044c\\u0435 \\u043c\\u0435\\u0441\\u0442\\u043e \\u0441\\u0440\\u0435\\u0434\\u0438 \\u0441\\u043e\\u0432\\u0435\\u0442\\u0441\\u043a\\u043e\\u0433\\u043e \\u043a\\u0438\\u043d\\u043e\\u043f\\u0440\\u043e\\u043a\\u0430\\u0442\\u0430 \\u0437\\u0430 1986 \\u0433\\u043e\\u0434 \\u2014 35,3 \\u043c\\u043b\\u043d \\u0437\\u0440\\u0438\\u0442\\u0435\\u043b\\u0435\\u0439 (140-\\u0435 \\u043c\\u0435\\u0441\\u0442\\u043e \\u0441\\u0440\\u0435\\u0434\\u0438 \\u0432\\u0441\\u0435\\u0445 \\u0441\\u043e\\u0432\\u0435\\u0442\\u0441\\u043a\\u0438\\u0445 \\u0444\\u0438\\u043b\\u044c\\u043c\\u043e\\u0432).\"\n        ],\n        \"semantic_type\": \"\",\n        \"description\": \"\"\n      }\n    },\n    {\n      \"column\": \"plot\",\n      \"properties\": {\n        \"dtype\": \"string\",\n        \"num_unique_values\": 40387,\n        \"samples\": [\n          \"\\u041b\\u0435\\u0442\\u043e 1944 \\u0433\\u043e\\u0434\\u0430, \\u0423\\u043a\\u0440\\u0430\\u0438\\u043d\\u0430 \\u043e\\u0441\\u0432\\u043e\\u0431\\u043e\\u0436\\u0434\\u0451\\u043d\\u043d\\u0430\\u044f \\u043e\\u0442 \\u0444\\u0430\\u0448\\u0438\\u0441\\u0442\\u0441\\u043a\\u0438\\u0445 \\u043e\\u043a\\u043a\\u0443\\u043f\\u0430\\u043d\\u0442\\u043e\\u0432. \\u0414\\u0435\\u043c\\u043e\\u0431\\u0438\\u043b\\u0438\\u0437\\u043e\\u0432\\u0430\\u043d\\u043d\\u044b\\u0439 \\u043f\\u043e \\u0440\\u0430\\u043d\\u0435\\u043d\\u0438\\u044e \\u043c\\u043e\\u043b\\u043e\\u0434\\u043e\\u0439 \\u043b\\u0435\\u0439\\u0442\\u0435\\u043d\\u0430\\u043d\\u0442 \\u0418\\u0432\\u0430\\u043d \\u041a\\u0430\\u043f\\u0435\\u043b\\u044e\\u0445 \\u0432\\u043e\\u0437\\u0432\\u0440\\u0430\\u0449\\u0430\\u0435\\u0442\\u0441\\u044f \\u0432 \\u0440\\u043e\\u0434\\u043d\\u043e\\u0435 \\u043f\\u043e\\u043b\\u0435\\u0441\\u0441\\u043a\\u043e\\u0435 \\u0441\\u0435\\u043b\\u043e \\u0413\\u043b\\u0443\\u0445\\u0430\\u0440\\u044b, \\u043a\\u043e\\u0442\\u043e\\u0440\\u043e\\u0435, \\u043f\\u043e \\u0444\\u0440\\u043e\\u043d\\u0442\\u043e\\u0432\\u044b\\u043c \\u043f\\u043e\\u043d\\u044f\\u0442\\u0438\\u044f\\u043c, \\u0443\\u0436\\u0435 \\u0433\\u043b\\u0443\\u0431\\u043e\\u043a\\u0438\\u0439 \\u0442\\u044b\\u043b. \\u041a \\u0435\\u0433\\u043e \\u0443\\u0434\\u0438\\u0432\\u043b\\u0435\\u043d\\u0438\\u044e \\u0441\\u0435\\u043b\\u043e \\u043f\\u043e\\u0447\\u0442\\u0438 \\u043d\\u0435 \\u0442\\u0440\\u043e\\u043d\\u0443\\u0442\\u043e \\u0432\\u043e\\u0439\\u043d\\u043e\\u0439. \\u0425\\u043e\\u0442\\u044f \\u0444\\u0430\\u0448\\u0438\\u0441\\u0442\\u044b \\u0443\\u0436\\u0435 \\u0438\\u0437\\u0433\\u043d\\u0430\\u043d\\u044b \\u0441 \\u044d\\u0442\\u0438\\u0445 \\u043c\\u0435\\u0441\\u0442, \\u043d\\u043e \\u0436\\u0438\\u0442\\u0435\\u043b\\u0438 \\u0432\\u0441\\u0451 \\u0435\\u0449\\u0451 \\u043d\\u0430\\u0445\\u043e\\u0434\\u044f\\u0442\\u0441\\u044f \\u0432 \\u043f\\u043e\\u0441\\u0442\\u043e\\u044f\\u043d\\u043d\\u043e\\u043c \\u0441\\u0442\\u0440\\u0430\\u0445\\u0435. \\u041b\\u044e\\u0431\\u0438\\u043c\\u0430\\u044f \\u0434\\u0435\\u0432\\u0443\\u0448\\u043a\\u0430 \\u0438\\u0437\\u0431\\u0435\\u0433\\u0430\\u0435\\u0442 \\u0441 \\u043d\\u0438\\u043c \\u0432\\u0441\\u0442\\u0440\\u0435\\u0447, \\u043e\\u0434\\u043d\\u043e\\u0441\\u0435\\u043b\\u044c\\u0447\\u0430\\u043d\\u0435 \\u0435\\u0433\\u043e \\u0441\\u0442\\u043e\\u0440\\u043e\\u043d\\u044f\\u0442\\u0441\\u044f, \\u0430 \\u0431\\u0430\\u0431\\u0443\\u0448\\u043a\\u0430 \\u0443\\u0433\\u043e\\u0432\\u0430\\u0440\\u0438\\u0432\\u0430\\u0435\\u0442 \\u043d\\u0435 \\u043f\\u043e\\u044f\\u0432\\u043b\\u044f\\u0442\\u044c\\u0441\\u044f \\u043d\\u0430 \\u0443\\u043b\\u0438\\u0446\\u0435 \\u0432 \\u0431\\u043e\\u0435\\u0432\\u044b\\u0445 \\u043e\\u0440\\u0434\\u0435\\u043d\\u0430\\u0445 \\u0438 \\u043d\\u0438 \\u0437\\u0430 \\u0447\\u0442\\u043e \\u043d\\u0435 \\u0445\\u043e\\u0434\\u0438\\u0442\\u044c \\u0432 \\u043b\\u0435\\u0441. \\u0416\\u0435\\u0441\\u0442\\u043e\\u043a\\u0438\\u0435 \\u0443\\u0431\\u0438\\u0439\\u0441\\u0442\\u0432\\u0430 \\u043e\\u0434\\u043d\\u043e\\u0441\\u0435\\u043b\\u044c\\u0447\\u0430\\u043d \\u0437\\u0430\\u0441\\u0442\\u0430\\u0432\\u043b\\u044f\\u044e\\u0442 \\u0444\\u0440\\u043e\\u043d\\u0442\\u043e\\u0432\\u0438\\u043a\\u0430 \\u0432\\u0441\\u0442\\u0443\\u043f\\u0438\\u0442\\u044c \\u0432 \\u0431\\u043e\\u0440\\u044c\\u0431\\u0443 \\u0441 \\u0442\\u0435\\u043c\\u0438, \\u043a\\u0442\\u043e \\u0442\\u0430\\u0438\\u0442\\u0441\\u044f \\u0432 \\u043b\\u0435\\u0441\\u043d\\u044b\\u0445 \\u0447\\u0430\\u0449\\u043e\\u0431\\u0430\\u0445, \\u0438 \\u0431\\u0438\\u0442\\u044c \\u00ab\\u0432\\u043e\\u043b\\u043a\\u043e\\u0432\\u00bb \\u2014 \\u0431\\u0430\\u043d\\u0434\\u0443 \\u0431\\u044b\\u0432\\u0448\\u0438\\u0445 \\u043f\\u043e\\u043b\\u0438\\u0446\\u0430\\u0435\\u0432 \\u0438 \\u0431\\u0430\\u043d\\u0434\\u0435\\u0440\\u043e\\u0432\\u0446\\u0435\\u0432, \\u043d\\u0435 \\u0443\\u0441\\u043f\\u0435\\u0432\\u0448\\u0438\\u0445 \\u0441\\u0431\\u0435\\u0436\\u0430\\u0442\\u044c \\u0441 \\u043d\\u0435\\u043c\\u0446\\u0430\\u043c\\u0438\\u2026\",\n          \"\\u0425\\u0443\\u0434\\u043e\\u0436\\u0435\\u0441\\u0442\\u0432\\u0435\\u043d\\u043d\\u043e\\u0435 \\u043e\\u0441\\u043c\\u044b\\u0441\\u043b\\u0435\\u043d\\u0438\\u0435 \\u0438\\u0441\\u0442\\u043e\\u0440\\u0438\\u0447\\u0435\\u0441\\u043a\\u0438\\u0445 \\u0441\\u043e\\u0431\\u044b\\u0442\\u0438\\u0439 XVI \\u0432\\u0435\\u043a\\u0430 \\u043e\\u0441\\u043d\\u043e\\u0432\\u0430\\u043d\\u043e \\u043d\\u0430 \\u0441\\u044e\\u0436\\u0435\\u0442\\u0435 \\u0440\\u043e\\u043c\\u0430\\u043d\\u0430 \\u043f\\u0438\\u0441\\u0430\\u0442\\u0435\\u043b\\u044f \\u0410. \\u041a. \\u0422\\u043e\\u043b\\u0441\\u0442\\u043e\\u0433\\u043e \\u00ab\\u041a\\u043d\\u044f\\u0437\\u044c \\u0421\\u0435\\u0440\\u0435\\u0431\\u0440\\u044f\\u043d\\u044b\\u0439\\u00bb.\",\n          \"\\u0412 \\u043e\\u0441\\u043d\\u043e\\u0432\\u0435 \\u043a\\u0430\\u0440\\u0442\\u0438\\u043d\\u044b \\u043b\\u0435\\u0436\\u0438\\u0442 \\u0441\\u0443\\u0434\\u044c\\u0431\\u0430 \\u0420\\u0438\\u043a\\u0438 \\u2014 \\u043f\\u0430\\u0440\\u043d\\u044f, \\u0432\\u044b\\u0440\\u043e\\u0441\\u0448\\u0435\\u0433\\u043e \\u043d\\u0430 \\u0443\\u043b\\u0438\\u0446\\u0435 \\u0432 \\u0441\\u0440\\u0435\\u0434\\u0435 \\u043d\\u0430\\u0440\\u043a\\u043e\\u043c\\u0430\\u043d\\u043e\\u0432, \\u043f\\u0440\\u043e\\u0441\\u0442\\u0438\\u0442\\u0443\\u0442\\u043e\\u043a \\u0438 \\u0441\\u0443\\u0442\\u0435\\u043d\\u0451\\u0440\\u043e\\u0432, \\u0442\\u043e \\u0435\\u0441\\u0442\\u044c \\u043d\\u0430 \\u0441\\u0430\\u043c\\u043e\\u043c \\u0433\\u043e\\u0440\\u043e\\u0434\\u0441\\u043a\\u043e\\u043c \\u0434\\u043d\\u0435. \\u0412\\u0430\\u0436\\u043d\\u044b\\u043c \\u043f\\u043e\\u0432\\u043e\\u0440\\u043e\\u0442\\u043e\\u043c \\u0434\\u043b\\u044f \\u043d\\u0435\\u0433\\u043e \\u0441\\u0442\\u0430\\u043d\\u043e\\u0432\\u0438\\u0442\\u0441\\u044f \\u0432\\u0441\\u0442\\u0440\\u0435\\u0447\\u0430 \\u0441 \\u043c\\u0430\\u0442\\u0435\\u0440\\u044c\\u044e, \\u043a\\u043e\\u0442\\u043e\\u0440\\u0430\\u044f \\u043e\\u0442\\u0441\\u0438\\u0434\\u0435\\u0432 11 \\u043b\\u0435\\u0442 \\u0432 \\u0442\\u044e\\u0440\\u044c\\u043c\\u0435, \\u043d\\u0430\\u043a\\u043e\\u043d\\u0435\\u0446 \\u0432\\u044b\\u0445\\u043e\\u0434\\u0438\\u0442 \\u043d\\u0430 \\u0441\\u0432\\u043e\\u0431\\u043e\\u0434\\u0443. \\u0427\\u0442\\u043e\\u0431\\u044b \\u043d\\u0430\\u043b\\u0430\\u0434\\u0438\\u0442\\u044c \\u0441 \\u043d\\u0435\\u0439 \\u043e\\u0442\\u043d\\u043e\\u0448\\u0435\\u043d\\u0438\\u044f, \\u0420\\u0438\\u043a\\u0438 \\u043e\\u0442\\u043a\\u0440\\u044b\\u0432\\u0430\\u0435\\u0442 \\u0431\\u043e\\u0440\\u0434\\u0435\\u043b\\u044c \\u043f\\u043e\\u0434 \\u043d\\u0430\\u0437\\u0432\\u0430\\u043d\\u0438\\u0435\\u043c \\u00ab\\u0425\\u0438\\u0440\\u043e\\u0441\\u0438\\u043c\\u0430\\u00bb \\u0441 \\u043d\\u0435\\u043e\\u043d\\u043e\\u0432\\u043e\\u0439 \\u0432\\u044b\\u0432\\u0435\\u0441\\u043a\\u043e\\u0439 \\u0443 \\u0432\\u0445\\u043e\\u0434\\u0430. \\u041d\\u043e \\u0434\\u0435\\u043b\\u0430, \\u043a\\u0430\\u043a \\u043e\\u0431\\u044b\\u0447\\u043d\\u043e, \\u043f\\u0440\\u0438\\u043d\\u0438\\u043c\\u0430\\u044e\\u0442 \\u043d\\u0435\\u043e\\u0436\\u0438\\u0434\\u0430\\u043d\\u043d\\u044b\\u0439 \\u043f\\u043e\\u0432\\u043e\\u0440\\u043e\\u0442: \\u0443 \\u043c\\u0430\\u0442\\u0435\\u0440\\u0438 \\u043e\\u043a\\u0430\\u0437\\u044b\\u0432\\u0430\\u0435\\u0442\\u0441\\u044f \\u043f\\u0440\\u043e\\u0433\\u0440\\u0435\\u0441\\u0441\\u0438\\u0440\\u0443\\u044e\\u0449\\u0430\\u044f \\u0431\\u043e\\u043b\\u0435\\u0437\\u043d\\u044c \\u0410\\u043b\\u044c\\u0446\\u0433\\u0435\\u0439\\u043c\\u0435\\u0440\\u0430, \\u0430 \\u043a\\u043e\\u043c\\u043f\\u0430\\u043d\\u0438\\u044f \\u0434\\u0440\\u0443\\u0437\\u0435\\u0439 \\u0420\\u0438\\u043a\\u0438 \\u043f\\u043e\\u0441\\u0442\\u043e\\u044f\\u043d\\u043d\\u043e \\u0432\\u043f\\u0443\\u0442\\u044b\\u0432\\u0430\\u0435\\u0442\\u0441\\u044f \\u0432\\u043e \\u0432\\u0441\\u044f\\u043a\\u0438\\u0435 \\u043d\\u0435\\u043f\\u0440\\u0438\\u044f\\u0442\\u043d\\u043e\\u0441\\u0442\\u0438.\"\n        ],\n        \"semantic_type\": \"\",\n        \"description\": \"\"\n      }\n    }\n  ]\n}"
            }
          },
          "metadata": {},
          "execution_count": 4
        }
      ]
    },
    {
      "cell_type": "markdown",
      "source": [
        "Предобработка: удаляем строки, где пустое описание или жанр, создаем пары"
      ],
      "metadata": {
        "id": "JcrG6SAb0uO2"
      }
    },
    {
      "cell_type": "code",
      "source": [
        "from datasets import Dataset\n",
        "df = df[df['plot'].notnull() & df['genre'].notnull() & df['title'].notnull()]\n",
        "\n",
        "# Создаём пары (imput (название, жанр) и target (описание))\n",
        "df['input_text'] = df.apply(lambda row: f\"Название: {row['title']}; Жанр: {row['genre']}\", axis=1)\n",
        "df['target_text'] = df['plot']\n",
        "\n",
        "dataset = Dataset.from_pandas(df[['input_text', 'target_text']])"
      ],
      "metadata": {
        "id": "4Z8kskHd0toA"
      },
      "execution_count": 12,
      "outputs": []
    },
    {
      "cell_type": "code",
      "source": [
        "dataset = dataset.shuffle(seed=42).select(range(5000))"
      ],
      "metadata": {
        "id": "rARAlHHO4etE"
      },
      "execution_count": 13,
      "outputs": []
    },
    {
      "cell_type": "markdown",
      "source": [
        "Я выбрала модель предобученную на русском языке: ai-forever/ruT5-base"
      ],
      "metadata": {
        "id": "lSZd8MxL1pyY"
      }
    },
    {
      "cell_type": "markdown",
      "source": [
        "Нужно токенизировать текст"
      ],
      "metadata": {
        "id": "wYvwS4to1yD-"
      }
    },
    {
      "cell_type": "code",
      "source": [
        "from transformers import AutoTokenizer\n",
        "\n",
        "model_name = \"ai-forever/ruT5-base\"\n",
        "tokenizer = AutoTokenizer.from_pretrained(model_name)\n",
        "\n",
        "def preprocess(example):\n",
        "    model_inputs = tokenizer(\n",
        "        example[\"input_text\"],\n",
        "        max_length=256,\n",
        "        padding=\"max_length\",\n",
        "        truncation=True,\n",
        "    )\n",
        "    with tokenizer.as_target_tokenizer():\n",
        "        labels = tokenizer(\n",
        "            example[\"target_text\"],\n",
        "            max_length=256,\n",
        "            padding=\"max_length\",\n",
        "            truncation=True,\n",
        "        )\n",
        "    model_inputs[\"labels\"] = labels[\"input_ids\"]\n",
        "    return model_inputs\n",
        "\n",
        "tokenized_dataset = dataset.map(preprocess)"
      ],
      "metadata": {
        "colab": {
          "base_uri": "https://localhost:8080/",
          "height": 49,
          "referenced_widgets": [
            "40e24ba3e3ec4e348ee47e4a57818197",
            "97e07929ecd14bdebbcee24e5820d448",
            "48963dbe81a141a5b39025b21e965b3d",
            "d604d699d1e44fb181a65fbfdb59f24b",
            "4128463f1c4e4c96a446c9ea96533947",
            "6f3ded0a1b274d94b223224dec1e8c30",
            "97f4dbae7bb0491c9ba47239b352bd84",
            "fa5d1e136f3241e09cbd762a0e0a271d",
            "44a27262020f4303a67d2d31b1977ec9",
            "042fb3b891904f2c8400fbfcf6939fc9",
            "58b5925787904a98b277ee7f56b62351"
          ]
        },
        "id": "gcwnqbt211T5",
        "outputId": "501ae07b-a3f2-4d5e-fec7-d9b59282c7d4"
      },
      "execution_count": 15,
      "outputs": [
        {
          "output_type": "display_data",
          "data": {
            "text/plain": [
              "Map:   0%|          | 0/5000 [00:00<?, ? examples/s]"
            ],
            "application/vnd.jupyter.widget-view+json": {
              "version_major": 2,
              "version_minor": 0,
              "model_id": "40e24ba3e3ec4e348ee47e4a57818197"
            }
          },
          "metadata": {}
        }
      ]
    },
    {
      "cell_type": "code",
      "source": [
        "import torch\n",
        "print(torch.cuda.is_available())"
      ],
      "metadata": {
        "colab": {
          "base_uri": "https://localhost:8080/"
        },
        "id": "e5Va3cjn4xlI",
        "outputId": "00b8ded6-ca42-4362-cac5-d6d8e9415af3"
      },
      "execution_count": 16,
      "outputs": [
        {
          "output_type": "stream",
          "name": "stdout",
          "text": [
            "True\n"
          ]
        }
      ]
    },
    {
      "cell_type": "code",
      "source": [
        "from transformers import AutoModelForSeq2SeqLM, TrainingArguments, Trainer\n",
        "\n",
        "# загрузка модели\n",
        "model = AutoModelForSeq2SeqLM.from_pretrained(model_name)\n",
        "\n",
        "# аргументы\n",
        "training_args = TrainingArguments(\n",
        "    output_dir=\"./movie_model\",\n",
        "    per_device_train_batch_size=16,\n",
        "    num_train_epochs=5,\n",
        "    learning_rate=5e-5,\n",
        "    logging_steps=100,\n",
        "    save_total_limit=1,\n",
        "    save_strategy=\"epoch\",\n",
        "    report_to=\"none\",\n",
        "    fp16=True if torch.cuda.is_available() else False,\n",
        ")\n",
        "\n",
        "# Тренер\n",
        "trainer = Trainer(\n",
        "    model=model,\n",
        "    args=training_args,\n",
        "    train_dataset=tokenized_dataset,\n",
        ")"
      ],
      "metadata": {
        "id": "Dp9snH132Huc"
      },
      "execution_count": 17,
      "outputs": []
    },
    {
      "cell_type": "code",
      "source": [
        "trainer.train()"
      ],
      "metadata": {
        "colab": {
          "base_uri": "https://localhost:8080/",
          "height": 574
        },
        "id": "1Q4n62PO2oxA",
        "outputId": "cb9adda0-1f7a-40c4-cf4b-1d7925e5eaaf"
      },
      "execution_count": 18,
      "outputs": [
        {
          "output_type": "display_data",
          "data": {
            "text/plain": [
              "<IPython.core.display.HTML object>"
            ],
            "text/html": [
              "\n",
              "    <div>\n",
              "      \n",
              "      <progress value='1565' max='1565' style='width:300px; height:20px; vertical-align: middle;'></progress>\n",
              "      [1565/1565 23:12, Epoch 5/5]\n",
              "    </div>\n",
              "    <table border=\"1\" class=\"dataframe\">\n",
              "  <thead>\n",
              " <tr style=\"text-align: left;\">\n",
              "      <th>Step</th>\n",
              "      <th>Training Loss</th>\n",
              "    </tr>\n",
              "  </thead>\n",
              "  <tbody>\n",
              "    <tr>\n",
              "      <td>100</td>\n",
              "      <td>4.705600</td>\n",
              "    </tr>\n",
              "    <tr>\n",
              "      <td>200</td>\n",
              "      <td>2.965100</td>\n",
              "    </tr>\n",
              "    <tr>\n",
              "      <td>300</td>\n",
              "      <td>2.854900</td>\n",
              "    </tr>\n",
              "    <tr>\n",
              "      <td>400</td>\n",
              "      <td>2.807100</td>\n",
              "    </tr>\n",
              "    <tr>\n",
              "      <td>500</td>\n",
              "      <td>2.755600</td>\n",
              "    </tr>\n",
              "    <tr>\n",
              "      <td>600</td>\n",
              "      <td>2.727700</td>\n",
              "    </tr>\n",
              "    <tr>\n",
              "      <td>700</td>\n",
              "      <td>2.671800</td>\n",
              "    </tr>\n",
              "    <tr>\n",
              "      <td>800</td>\n",
              "      <td>2.672200</td>\n",
              "    </tr>\n",
              "    <tr>\n",
              "      <td>900</td>\n",
              "      <td>2.651600</td>\n",
              "    </tr>\n",
              "    <tr>\n",
              "      <td>1000</td>\n",
              "      <td>2.674600</td>\n",
              "    </tr>\n",
              "    <tr>\n",
              "      <td>1100</td>\n",
              "      <td>2.632800</td>\n",
              "    </tr>\n",
              "    <tr>\n",
              "      <td>1200</td>\n",
              "      <td>2.598900</td>\n",
              "    </tr>\n",
              "    <tr>\n",
              "      <td>1300</td>\n",
              "      <td>2.632800</td>\n",
              "    </tr>\n",
              "    <tr>\n",
              "      <td>1400</td>\n",
              "      <td>2.572000</td>\n",
              "    </tr>\n",
              "    <tr>\n",
              "      <td>1500</td>\n",
              "      <td>2.570400</td>\n",
              "    </tr>\n",
              "  </tbody>\n",
              "</table><p>"
            ]
          },
          "metadata": {}
        },
        {
          "output_type": "execute_result",
          "data": {
            "text/plain": [
              "TrainOutput(global_step=1565, training_loss=2.8238856696473142, metrics={'train_runtime': 1393.2362, 'train_samples_per_second': 17.944, 'train_steps_per_second': 1.123, 'total_flos': 7611973632000000.0, 'train_loss': 2.8238856696473142, 'epoch': 5.0})"
            ]
          },
          "metadata": {},
          "execution_count": 18
        }
      ]
    },
    {
      "cell_type": "code",
      "source": [
        "trainer.save_model(\"./movie_model\")"
      ],
      "metadata": {
        "id": "K4hOSX6ZCAeq"
      },
      "execution_count": 23,
      "outputs": []
    },
    {
      "cell_type": "markdown",
      "source": [
        "Пример описания:"
      ],
      "metadata": {
        "id": "tqzDWsLZCF9V"
      }
    },
    {
      "cell_type": "code",
      "source": [
        "def generate_description(title, genre, max_tokens=100):\n",
        "    prompt = f\"Название: {title}; Жанр: {genre}\"\n",
        "    inputs = tokenizer(prompt, return_tensors=\"pt\", truncation=True).to(model.device)\n",
        "\n",
        "    output_ids = model.generate(\n",
        "        **inputs,\n",
        "        max_new_tokens=max_tokens,\n",
        "        do_sample=True,\n",
        "        top_p=0.9,\n",
        "        temperature=0.7,\n",
        "        repetition_penalty=1.3,\n",
        "        num_return_sequences=1,\n",
        "    )\n",
        "\n",
        "    return tokenizer.decode(output_ids[0], skip_special_tokens=True)"
      ],
      "metadata": {
        "id": "K1ne7osc3byN"
      },
      "execution_count": 19,
      "outputs": []
    },
    {
      "cell_type": "code",
      "source": [
        "desc = generate_description(\"Солярис\", \"фантастика, драма\")\n",
        "print(\"Описание:\", desc)"
      ],
      "metadata": {
        "colab": {
          "base_uri": "https://localhost:8080/"
        },
        "id": "KRt7t9us6afk",
        "outputId": "15479f91-b0d5-4f10-bd34-f10126083160"
      },
      "execution_count": 20,
      "outputs": [
        {
          "output_type": "stream",
          "name": "stderr",
          "text": [
            "Asking to truncate to max_length but no maximum length is provided and the model has no predefined maximum length. Default to no truncation.\n"
          ]
        },
        {
          "output_type": "stream",
          "name": "stdout",
          "text": [
            "Описание: Действие фильма разворачивается в 1991 году. В рамках проекта проведён проект «Солярис» (Вектор Лесли) и его главный герой — профессиональный разведчик, который не может работать на земле из-за своей внешности.\n"
          ]
        }
      ]
    },
    {
      "cell_type": "code",
      "source": [
        "!pip install gradio"
      ],
      "metadata": {
        "colab": {
          "base_uri": "https://localhost:8080/"
        },
        "id": "h_vpxeukBlCH",
        "outputId": "2299718d-aa1e-4388-edc1-4f12f8020753"
      },
      "execution_count": 21,
      "outputs": [
        {
          "output_type": "stream",
          "name": "stdout",
          "text": [
            "Collecting gradio\n",
            "  Downloading gradio-5.31.0-py3-none-any.whl.metadata (16 kB)\n",
            "Collecting aiofiles<25.0,>=22.0 (from gradio)\n",
            "  Downloading aiofiles-24.1.0-py3-none-any.whl.metadata (10 kB)\n",
            "Requirement already satisfied: anyio<5.0,>=3.0 in /usr/local/lib/python3.11/dist-packages (from gradio) (4.9.0)\n",
            "Collecting fastapi<1.0,>=0.115.2 (from gradio)\n",
            "  Downloading fastapi-0.115.12-py3-none-any.whl.metadata (27 kB)\n",
            "Collecting ffmpy (from gradio)\n",
            "  Downloading ffmpy-0.5.0-py3-none-any.whl.metadata (3.0 kB)\n",
            "Collecting gradio-client==1.10.1 (from gradio)\n",
            "  Downloading gradio_client-1.10.1-py3-none-any.whl.metadata (7.1 kB)\n",
            "Collecting groovy~=0.1 (from gradio)\n",
            "  Downloading groovy-0.1.2-py3-none-any.whl.metadata (6.1 kB)\n",
            "Requirement already satisfied: httpx>=0.24.1 in /usr/local/lib/python3.11/dist-packages (from gradio) (0.28.1)\n",
            "Requirement already satisfied: huggingface-hub>=0.28.1 in /usr/local/lib/python3.11/dist-packages (from gradio) (0.31.4)\n",
            "Requirement already satisfied: jinja2<4.0 in /usr/local/lib/python3.11/dist-packages (from gradio) (3.1.6)\n",
            "Requirement already satisfied: markupsafe<4.0,>=2.0 in /usr/local/lib/python3.11/dist-packages (from gradio) (3.0.2)\n",
            "Requirement already satisfied: numpy<3.0,>=1.0 in /usr/local/lib/python3.11/dist-packages (from gradio) (2.0.2)\n",
            "Requirement already satisfied: orjson~=3.0 in /usr/local/lib/python3.11/dist-packages (from gradio) (3.10.18)\n",
            "Requirement already satisfied: packaging in /usr/local/lib/python3.11/dist-packages (from gradio) (24.2)\n",
            "Requirement already satisfied: pandas<3.0,>=1.0 in /usr/local/lib/python3.11/dist-packages (from gradio) (2.2.2)\n",
            "Requirement already satisfied: pillow<12.0,>=8.0 in /usr/local/lib/python3.11/dist-packages (from gradio) (11.2.1)\n",
            "Requirement already satisfied: pydantic<2.12,>=2.0 in /usr/local/lib/python3.11/dist-packages (from gradio) (2.11.4)\n",
            "Collecting pydub (from gradio)\n",
            "  Downloading pydub-0.25.1-py2.py3-none-any.whl.metadata (1.4 kB)\n",
            "Collecting python-multipart>=0.0.18 (from gradio)\n",
            "  Downloading python_multipart-0.0.20-py3-none-any.whl.metadata (1.8 kB)\n",
            "Requirement already satisfied: pyyaml<7.0,>=5.0 in /usr/local/lib/python3.11/dist-packages (from gradio) (6.0.2)\n",
            "Collecting ruff>=0.9.3 (from gradio)\n",
            "  Downloading ruff-0.11.11-py3-none-manylinux_2_17_x86_64.manylinux2014_x86_64.whl.metadata (25 kB)\n",
            "Collecting safehttpx<0.2.0,>=0.1.6 (from gradio)\n",
            "  Downloading safehttpx-0.1.6-py3-none-any.whl.metadata (4.2 kB)\n",
            "Collecting semantic-version~=2.0 (from gradio)\n",
            "  Downloading semantic_version-2.10.0-py2.py3-none-any.whl.metadata (9.7 kB)\n",
            "Collecting starlette<1.0,>=0.40.0 (from gradio)\n",
            "  Downloading starlette-0.46.2-py3-none-any.whl.metadata (6.2 kB)\n",
            "Collecting tomlkit<0.14.0,>=0.12.0 (from gradio)\n",
            "  Downloading tomlkit-0.13.2-py3-none-any.whl.metadata (2.7 kB)\n",
            "Requirement already satisfied: typer<1.0,>=0.12 in /usr/local/lib/python3.11/dist-packages (from gradio) (0.15.3)\n",
            "Requirement already satisfied: typing-extensions~=4.0 in /usr/local/lib/python3.11/dist-packages (from gradio) (4.13.2)\n",
            "Collecting uvicorn>=0.14.0 (from gradio)\n",
            "  Downloading uvicorn-0.34.2-py3-none-any.whl.metadata (6.5 kB)\n",
            "Requirement already satisfied: fsspec in /usr/local/lib/python3.11/dist-packages (from gradio-client==1.10.1->gradio) (2025.3.2)\n",
            "Requirement already satisfied: websockets<16.0,>=10.0 in /usr/local/lib/python3.11/dist-packages (from gradio-client==1.10.1->gradio) (15.0.1)\n",
            "Requirement already satisfied: idna>=2.8 in /usr/local/lib/python3.11/dist-packages (from anyio<5.0,>=3.0->gradio) (3.10)\n",
            "Requirement already satisfied: sniffio>=1.1 in /usr/local/lib/python3.11/dist-packages (from anyio<5.0,>=3.0->gradio) (1.3.1)\n",
            "Requirement already satisfied: certifi in /usr/local/lib/python3.11/dist-packages (from httpx>=0.24.1->gradio) (2025.4.26)\n",
            "Requirement already satisfied: httpcore==1.* in /usr/local/lib/python3.11/dist-packages (from httpx>=0.24.1->gradio) (1.0.9)\n",
            "Requirement already satisfied: h11>=0.16 in /usr/local/lib/python3.11/dist-packages (from httpcore==1.*->httpx>=0.24.1->gradio) (0.16.0)\n",
            "Requirement already satisfied: filelock in /usr/local/lib/python3.11/dist-packages (from huggingface-hub>=0.28.1->gradio) (3.18.0)\n",
            "Requirement already satisfied: requests in /usr/local/lib/python3.11/dist-packages (from huggingface-hub>=0.28.1->gradio) (2.32.3)\n",
            "Requirement already satisfied: tqdm>=4.42.1 in /usr/local/lib/python3.11/dist-packages (from huggingface-hub>=0.28.1->gradio) (4.67.1)\n",
            "Requirement already satisfied: python-dateutil>=2.8.2 in /usr/local/lib/python3.11/dist-packages (from pandas<3.0,>=1.0->gradio) (2.9.0.post0)\n",
            "Requirement already satisfied: pytz>=2020.1 in /usr/local/lib/python3.11/dist-packages (from pandas<3.0,>=1.0->gradio) (2025.2)\n",
            "Requirement already satisfied: tzdata>=2022.7 in /usr/local/lib/python3.11/dist-packages (from pandas<3.0,>=1.0->gradio) (2025.2)\n",
            "Requirement already satisfied: annotated-types>=0.6.0 in /usr/local/lib/python3.11/dist-packages (from pydantic<2.12,>=2.0->gradio) (0.7.0)\n",
            "Requirement already satisfied: pydantic-core==2.33.2 in /usr/local/lib/python3.11/dist-packages (from pydantic<2.12,>=2.0->gradio) (2.33.2)\n",
            "Requirement already satisfied: typing-inspection>=0.4.0 in /usr/local/lib/python3.11/dist-packages (from pydantic<2.12,>=2.0->gradio) (0.4.1)\n",
            "Requirement already satisfied: click>=8.0.0 in /usr/local/lib/python3.11/dist-packages (from typer<1.0,>=0.12->gradio) (8.2.1)\n",
            "Requirement already satisfied: shellingham>=1.3.0 in /usr/local/lib/python3.11/dist-packages (from typer<1.0,>=0.12->gradio) (1.5.4)\n",
            "Requirement already satisfied: rich>=10.11.0 in /usr/local/lib/python3.11/dist-packages (from typer<1.0,>=0.12->gradio) (13.9.4)\n",
            "Requirement already satisfied: six>=1.5 in /usr/local/lib/python3.11/dist-packages (from python-dateutil>=2.8.2->pandas<3.0,>=1.0->gradio) (1.17.0)\n",
            "Requirement already satisfied: markdown-it-py>=2.2.0 in /usr/local/lib/python3.11/dist-packages (from rich>=10.11.0->typer<1.0,>=0.12->gradio) (3.0.0)\n",
            "Requirement already satisfied: pygments<3.0.0,>=2.13.0 in /usr/local/lib/python3.11/dist-packages (from rich>=10.11.0->typer<1.0,>=0.12->gradio) (2.19.1)\n",
            "Requirement already satisfied: charset-normalizer<4,>=2 in /usr/local/lib/python3.11/dist-packages (from requests->huggingface-hub>=0.28.1->gradio) (3.4.2)\n",
            "Requirement already satisfied: urllib3<3,>=1.21.1 in /usr/local/lib/python3.11/dist-packages (from requests->huggingface-hub>=0.28.1->gradio) (2.4.0)\n",
            "Requirement already satisfied: mdurl~=0.1 in /usr/local/lib/python3.11/dist-packages (from markdown-it-py>=2.2.0->rich>=10.11.0->typer<1.0,>=0.12->gradio) (0.1.2)\n",
            "Downloading gradio-5.31.0-py3-none-any.whl (54.2 MB)\n",
            "\u001b[2K   \u001b[90m━━━━━━━━━━━━━━━━━━━━━━━━━━━━━━━━━━━━━━━━\u001b[0m \u001b[32m54.2/54.2 MB\u001b[0m \u001b[31m15.3 MB/s\u001b[0m eta \u001b[36m0:00:00\u001b[0m\n",
            "\u001b[?25hDownloading gradio_client-1.10.1-py3-none-any.whl (323 kB)\n",
            "\u001b[2K   \u001b[90m━━━━━━━━━━━━━━━━━━━━━━━━━━━━━━━━━━━━━━━━\u001b[0m \u001b[32m323.1/323.1 kB\u001b[0m \u001b[31m28.2 MB/s\u001b[0m eta \u001b[36m0:00:00\u001b[0m\n",
            "\u001b[?25hDownloading aiofiles-24.1.0-py3-none-any.whl (15 kB)\n",
            "Downloading fastapi-0.115.12-py3-none-any.whl (95 kB)\n",
            "\u001b[2K   \u001b[90m━━━━━━━━━━━━━━━━━━━━━━━━━━━━━━━━━━━━━━━━\u001b[0m \u001b[32m95.2/95.2 kB\u001b[0m \u001b[31m9.3 MB/s\u001b[0m eta \u001b[36m0:00:00\u001b[0m\n",
            "\u001b[?25hDownloading groovy-0.1.2-py3-none-any.whl (14 kB)\n",
            "Downloading python_multipart-0.0.20-py3-none-any.whl (24 kB)\n",
            "Downloading ruff-0.11.11-py3-none-manylinux_2_17_x86_64.manylinux2014_x86_64.whl (11.5 MB)\n",
            "\u001b[2K   \u001b[90m━━━━━━━━━━━━━━━━━━━━━━━━━━━━━━━━━━━━━━━━\u001b[0m \u001b[32m11.5/11.5 MB\u001b[0m \u001b[31m93.7 MB/s\u001b[0m eta \u001b[36m0:00:00\u001b[0m\n",
            "\u001b[?25hDownloading safehttpx-0.1.6-py3-none-any.whl (8.7 kB)\n",
            "Downloading semantic_version-2.10.0-py2.py3-none-any.whl (15 kB)\n",
            "Downloading starlette-0.46.2-py3-none-any.whl (72 kB)\n",
            "\u001b[2K   \u001b[90m━━━━━━━━━━━━━━━━━━━━━━━━━━━━━━━━━━━━━━━━\u001b[0m \u001b[32m72.0/72.0 kB\u001b[0m \u001b[31m6.8 MB/s\u001b[0m eta \u001b[36m0:00:00\u001b[0m\n",
            "\u001b[?25hDownloading tomlkit-0.13.2-py3-none-any.whl (37 kB)\n",
            "Downloading uvicorn-0.34.2-py3-none-any.whl (62 kB)\n",
            "\u001b[2K   \u001b[90m━━━━━━━━━━━━━━━━━━━━━━━━━━━━━━━━━━━━━━━━\u001b[0m \u001b[32m62.5/62.5 kB\u001b[0m \u001b[31m6.8 MB/s\u001b[0m eta \u001b[36m0:00:00\u001b[0m\n",
            "\u001b[?25hDownloading ffmpy-0.5.0-py3-none-any.whl (6.0 kB)\n",
            "Downloading pydub-0.25.1-py2.py3-none-any.whl (32 kB)\n",
            "Installing collected packages: pydub, uvicorn, tomlkit, semantic-version, ruff, python-multipart, groovy, ffmpy, aiofiles, starlette, safehttpx, gradio-client, fastapi, gradio\n",
            "Successfully installed aiofiles-24.1.0 fastapi-0.115.12 ffmpy-0.5.0 gradio-5.31.0 gradio-client-1.10.1 groovy-0.1.2 pydub-0.25.1 python-multipart-0.0.20 ruff-0.11.11 safehttpx-0.1.6 semantic-version-2.10.0 starlette-0.46.2 tomlkit-0.13.2 uvicorn-0.34.2\n"
          ]
        }
      ]
    },
    {
      "cell_type": "code",
      "source": [
        "import gradio as gr\n",
        "from transformers import AutoTokenizer, AutoModelForSeq2SeqLM\n",
        "\n",
        "model_name = \"ai-forever/ruT5-base\"\n",
        "tokenizer = AutoTokenizer.from_pretrained(model_name)\n",
        "model = AutoModelForSeq2SeqLM.from_pretrained(\"./movie_model\")  # путь к дообученной модели\n",
        "\n",
        "def generate_description(title, genre):\n",
        "    prompt = f\"Название: {title}; Жанр: {genre}\"\n",
        "    inputs = tokenizer(prompt, return_tensors=\"pt\", truncation=True).to(model.device)\n",
        "    outputs = model.generate(\n",
        "        **inputs,\n",
        "        max_new_tokens=150,\n",
        "        do_sample=True,\n",
        "        top_p=0.9,\n",
        "        temperature=0.7,\n",
        "        repetition_penalty=1.2\n",
        "    )\n",
        "    return tokenizer.decode(outputs[0], skip_special_tokens=True)\n",
        "\n",
        "gr.Interface(\n",
        "    fn=generate_description,\n",
        "    inputs=[\n",
        "        gr.Textbox(label=\"Название фильма\"),\n",
        "        gr.Textbox(label=\"Жанр\"),\n",
        "    ],\n",
        "    outputs=gr.Textbox(label=\"Сгенерированное описание\"),\n",
        "    title=\"Генератор описания фильма\"\n",
        ").launch(share=True)  # ссылка"
      ],
      "metadata": {
        "colab": {
          "base_uri": "https://localhost:8080/",
          "height": 609
        },
        "id": "tRUTeRyEBqiT",
        "outputId": "89dbd9c4-565d-4770-e3c2-ad18d49a114a"
      },
      "execution_count": 24,
      "outputs": [
        {
          "output_type": "stream",
          "name": "stdout",
          "text": [
            "Colab notebook detected. To show errors in colab notebook, set debug=True in launch()\n",
            "* Running on public URL: https://9f58528e28732554eb.gradio.live\n",
            "\n",
            "This share link expires in 1 week. For free permanent hosting and GPU upgrades, run `gradio deploy` from the terminal in the working directory to deploy to Hugging Face Spaces (https://huggingface.co/spaces)\n"
          ]
        },
        {
          "output_type": "display_data",
          "data": {
            "text/plain": [
              "<IPython.core.display.HTML object>"
            ],
            "text/html": [
              "<div><iframe src=\"https://9f58528e28732554eb.gradio.live\" width=\"100%\" height=\"500\" allow=\"autoplay; camera; microphone; clipboard-read; clipboard-write;\" frameborder=\"0\" allowfullscreen></iframe></div>"
            ]
          },
          "metadata": {}
        },
        {
          "output_type": "execute_result",
          "data": {
            "text/plain": []
          },
          "metadata": {},
          "execution_count": 24
        }
      ]
    }
  ]
}